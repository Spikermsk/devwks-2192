{
 "cells": [
  {
   "cell_type": "markdown",
   "metadata": {},
   "source": [
    "# DEVWKS-2192: Automate your network with Nornir – Python automation framework!"
   ]
  },
  {
   "cell_type": "markdown",
   "metadata": {},
   "source": [
    "### Exploring inventory"
   ]
  },
  {
   "cell_type": "code",
   "execution_count": null,
   "metadata": {},
   "outputs": [],
   "source": [
    "from pprint import pprint\n",
    "from colorama import Fore\n",
    "import time\n",
    "\n",
    "from nornir import InitNornir\n",
    "nr = InitNornir(config_file=\"config.yaml\")\n",
    "pprint(nr.inventory.hosts)"
   ]
  },
  {
   "cell_type": "code",
   "execution_count": null,
   "metadata": {},
   "outputs": [],
   "source": [
    "pprint(nr.inventory.groups)"
   ]
  },
  {
   "cell_type": "markdown",
   "metadata": {},
   "source": [
    "### Simple output collection with netmiko"
   ]
  },
  {
   "cell_type": "code",
   "execution_count": null,
   "metadata": {
    "scrolled": true
   },
   "outputs": [],
   "source": [
    "from nornir.plugins.functions.text import print_result\n",
    "from nornir.plugins.tasks.networking import netmiko_send_command\n",
    "\n",
    "results = nr.run(task=netmiko_send_command, command_string=\"show ip int brief | ex una\")\n",
    "print_result(results)"
   ]
  },
  {
   "cell_type": "markdown",
   "metadata": {},
   "source": [
    "### Simple data retrieval using napalm"
   ]
  },
  {
   "cell_type": "code",
   "execution_count": null,
   "metadata": {},
   "outputs": [],
   "source": [
    "from nornir.plugins.tasks.networking import napalm_get\n",
    "results = nr.run(\n",
    "    task=napalm_get, getters=[\"facts\", \"interfaces\"]\n",
    ")\n",
    "print_result(results)"
   ]
  },
  {
   "cell_type": "markdown",
   "metadata": {},
   "source": [
    "### Exploring connections"
   ]
  },
  {
   "cell_type": "code",
   "execution_count": null,
   "metadata": {},
   "outputs": [],
   "source": [
    "for host in nr.inventory.hosts.values():\n",
    "    print(f\"{host.name} connections: {host.connections}\")\n",
    "    \n",
    "nr.close_connections()\n",
    "print(f\"{Fore.RED}All connections have been closed{Fore.RESET}\", end=\"\\n\\n\")\n",
    "\n",
    "for host in nr.inventory.hosts.values():\n",
    "    print(f\"{host.name} connections: {host.connections}\")"
   ]
  },
  {
   "cell_type": "markdown",
   "metadata": {},
   "source": [
    "### Data retrieval"
   ]
  },
  {
   "cell_type": "code",
   "execution_count": null,
   "metadata": {},
   "outputs": [],
   "source": [
    "r1 = nr.inventory.hosts['R1']\n",
    "print(r1.data)"
   ]
  },
  {
   "cell_type": "code",
   "execution_count": null,
   "metadata": {},
   "outputs": [],
   "source": [
    "print(r1['tags'])  # directly from data\n",
    "print(r1['ntp'])  # from group\n",
    "print(r1['snmp_community'])  # from defaults\n",
    "print(r1.get('non-existent-key', 'Placeholder'))  # this key does not exist in any group"
   ]
  },
  {
   "cell_type": "markdown",
   "metadata": {},
   "source": [
    "### Change data dynamically"
   ]
  },
  {
   "cell_type": "code",
   "execution_count": null,
   "metadata": {},
   "outputs": [],
   "source": [
    "# Settings site and locator for every host\n",
    "for host in nr.inventory.hosts.values():\n",
    "    site = host.groups[0]\n",
    "    host.data['site'] = site\n",
    "    locator = f'{host.name}.{site}'\n",
    "    host.data['locator'] = locator\n",
    "\n",
    "r1 = nr.inventory.hosts['R1']\n",
    "print(f\"{r1.name} has the following data: {r1.data}\")\n",
    "print(f\"{r1.name} site: {r1['site']}, locator: {r1['locator']}\")"
   ]
  },
  {
   "cell_type": "markdown",
   "metadata": {},
   "source": [
    "### Filtering"
   ]
  },
  {
   "cell_type": "code",
   "execution_count": null,
   "metadata": {},
   "outputs": [],
   "source": [
    "print(list(nr.filter(locator=\"R1.Barcelona\").inventory.hosts.keys()))\n",
    "print(list(nr.filter(site=\"Barcelona\").inventory.hosts.keys()))"
   ]
  },
  {
   "cell_type": "markdown",
   "metadata": {},
   "source": [
    "### Advanced filtering\n",
    "#### Filter function\n"
   ]
  },
  {
   "cell_type": "code",
   "execution_count": null,
   "metadata": {},
   "outputs": [],
   "source": [
    "print(list(nr.filter(filter_func=lambda h: h.has_parent_group('London')).inventory.hosts.keys()))"
   ]
  },
  {
   "cell_type": "markdown",
   "metadata": {},
   "source": [
    "#### F filter"
   ]
  },
  {
   "cell_type": "code",
   "execution_count": null,
   "metadata": {},
   "outputs": [],
   "source": [
    "from nornir.core.filter import F\n",
    "\n",
    "print(list(nr.filter(F(locator=\"R1.Barcelona\")).inventory.hosts.keys()))\n",
    "print(list(nr.filter(F(groups__contains=\"London\")).inventory.hosts.keys()))\n",
    "print(list(nr.filter(F(groups__contains=\"London\") & F(tags__contains=\"isr4400\")).inventory.hosts.keys()))\n",
    "print(list(nr.filter(F(groups__contains=\"London\") & F(tags__all=[\"isr4400\", \"edge\"])).inventory.hosts.keys()))\n",
    "print(list(nr.filter(F(ntp__servers__contains=\"1.2.3.4\")).inventory.hosts.keys()))"
   ]
  },
  {
   "cell_type": "markdown",
   "metadata": {},
   "source": [
    "### Combining filtering and task execution\n"
   ]
  },
  {
   "cell_type": "code",
   "execution_count": null,
   "metadata": {},
   "outputs": [],
   "source": [
    "from nornir.plugins.functions.text import print_result\n",
    "from nornir.plugins.tasks.networking import netmiko_send_command\n",
    "\n",
    "london_devices = nr.filter(F(groups__contains=\"London\"))\n",
    "result = london_devices.run(task=netmiko_send_command, command_string=\"show ip route\")\n",
    "print_result(result)"
   ]
  },
  {
   "cell_type": "markdown",
   "metadata": {},
   "source": [
    "### Custom tasks"
   ]
  },
  {
   "cell_type": "code",
   "execution_count": null,
   "metadata": {},
   "outputs": [],
   "source": [
    "from nornir.plugins.functions.text import print_result\n",
    "from nornir.plugins.tasks.networking import netmiko_send_command\n",
    "\n",
    "def get_commands(task, commands):\n",
    "    for command in commands:\n",
    "        task.run(task=netmiko_send_command, command_string=command)\n",
    "        \n",
    "london_devices = nr.filter(F(groups__contains=\"London\"))\n",
    "result = london_devices.run(task=get_commands, commands=[\"show ip int br\", \"show arp\"])\n",
    "print_result(result)\n"
   ]
  },
  {
   "cell_type": "markdown",
   "metadata": {},
   "source": [
    "#### Result, MultiResult, AggregatedResult\n",
    "* Result — result from a single task\n",
    "* MultiResult – list of results from grouped tasks\n",
    "* AggregatedResult – dictionary where the key is device name and the value is MultiResult"
   ]
  },
  {
   "cell_type": "code",
   "execution_count": null,
   "metadata": {},
   "outputs": [],
   "source": [
    "pprint(result)\n",
    "pprint(result['R10'])\n",
    "print()\n",
    "print(repr(result['R10'][1]), end='\\n\\n')\n",
    "print(result['R10'][1].result)"
   ]
  },
  {
   "cell_type": "code",
   "execution_count": null,
   "metadata": {},
   "outputs": [],
   "source": [
    "nr.close_connections()"
   ]
  },
  {
   "cell_type": "markdown",
   "metadata": {},
   "source": [
    "## END"
   ]
  },
  {
   "cell_type": "code",
   "execution_count": null,
   "metadata": {},
   "outputs": [],
   "source": []
  }
 ],
 "metadata": {
  "kernelspec": {
   "display_name": "Python 3",
   "language": "python",
   "name": "python3"
  },
  "language_info": {
   "codemirror_mode": {
    "name": "ipython",
    "version": 3
   },
   "file_extension": ".py",
   "mimetype": "text/x-python",
   "name": "python",
   "nbconvert_exporter": "python",
   "pygments_lexer": "ipython3",
   "version": "3.6.7"
  }
 },
 "nbformat": 4,
 "nbformat_minor": 2
}
